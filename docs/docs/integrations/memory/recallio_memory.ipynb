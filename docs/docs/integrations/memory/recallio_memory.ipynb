{
 "cells": [
  {
   "cell_type": "markdown",
   "metadata": {},
   "source": [
    "# RecallioMemory + LangChain Integration Demo\n",
    "A minimal notebook to show drop-in usage of RecallioMemory in LangChain (with scoped writes and recall)."
   ]
  },
  {
   "cell_type": "code",
   "metadata": {},
   "source": [
    "# Install needed packages (uncomment if needed)\n",
    "# %pip install recallio langchain langchain-recallio openai"
   ],
   "execution_count": null,
   "outputs": []
  },
  {
   "cell_type": "markdown",
   "metadata": {},
   "source": [
    "## Setup: API Keys & Imports"
   ]
  },
  {
   "cell_type": "code",
   "metadata": {},
   "source": [
    "from langchain_recallio.memory import RecallioMemory\n",
    "from langchain.llms import OpenAI\n",
    "from langchain.chains import ConversationChain\n",
    "import os\n",
    "\n",
    "# Set your keys here or use environment variables\n",
    "RECALLIO_API_KEY = os.getenv('RECALLIO_API_KEY', 'YOUR_RECALLIO_API_KEY')\n",
    "OPENAI_API_KEY = os.getenv('OPENAI_API_KEY', 'YOUR_OPENAI_API_KEY')"
   ],
   "execution_count": null,
   "outputs": []
  },
  {
   "cell_type": "markdown",
   "metadata": {},
   "source": [
    "## Initialize RecallioMemory"
   ]
  },
  {
   "cell_type": "code",
   "metadata": {},
   "source": [
    "memory = RecallioMemory(\n",
    "    api_key=RECALLIO_API_KEY,\n",
    "    session_id=\"demo-session-001\",\n",
    "    user_id=\"demo-user-42\",\n",
    "    ttl=3600,\n",
    "    tags=[\"test\", \"langchain\"]\n",
    ")"
   ],
   "execution_count": null,
   "outputs": []
  },
  {
   "cell_type": "markdown",
   "metadata": {},
   "source": [
    "## Build a LangChain ConversationChain with RecallioMemory"
   ]
  },
  {
   "cell_type": "code",
   "metadata": {},
   "source": [
    "# You can swap in any supported LLM here\n",
    "llm = OpenAI(openai_api_key=OPENAI_API_KEY, temperature=0)\n",
    "chain = ConversationChain(llm=llm, memory=memory, verbose=True)"
   ],
   "execution_count": null,
   "outputs": []
  },
  {
   "cell_type": "markdown",
   "metadata": {},
   "source": [
    "## Example: Chat with Memory"
   ]
  },
  {
   "cell_type": "code",
   "metadata": {},
   "source": [
    "response1 = chain.run(\"Hi! My name is Guillaume. Remember that.\")\n",
    "print(\"Bot:\", response1)"
   ],
   "execution_count": null,
   "outputs": []
  },
  {
   "cell_type": "code",
   "metadata": {},
   "source": [
    "response2 = chain.run(\"What is my name?\")\n",
    "print(\"Bot:\", response2)"
   ],
   "execution_count": null,
   "outputs": []
  },
  {
   "cell_type": "markdown",
   "metadata": {},
   "source": [
    "## See What Is Stored in Recallio\n",
    "This is for debugging/demo only; in production, you wouldn't do this on every run."
   ]
  },
  {
   "cell_type": "code",
   "metadata": {},
   "source": [
    "mem = memory.load_memory_variables({})\n",
    "print(\"Current memory:\", mem)"
   ],
   "execution_count": null,
   "outputs": []
  },
  {
   "cell_type": "markdown",
   "metadata": {},
   "source": [
    "## Clear Memory (Optional Cleanup)"
   ]
  },
  {
   "cell_type": "code",
   "metadata": {},
   "source": [
    "# memory.clear()\n",
    "# print(\"Memory cleared.\")"
   ],
   "execution_count": null,
   "outputs": []
  }
 ],
 "metadata": {
  "kernelspec": {
   "display_name": "Python 3",
   "language": "python",
   "name": "python3"
  },
  "language_info": {
   "name": "python",
   "version": "3.10"
  }
 },
 "nbformat": 4,
 "nbformat_minor": 2
}
